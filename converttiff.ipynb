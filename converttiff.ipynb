{
 "cells": [
  {
   "cell_type": "code",
   "execution_count": 1,
   "metadata": {},
   "outputs": [],
   "source": [
    "from monai.utils import first, set_determinism\n",
    "from monai.transforms import (\n",
    "    AsDiscrete,\n",
    "    EnsureChannelFirstd,\n",
    "    Compose,\n",
    "    CropForegroundd,\n",
    "    LoadImaged,\n",
    "    RandCropByPosNegLabeld,\n",
    "    ScaleIntensityRanged,\n",
    "    Spacingd,\n",
    "    LabelToMaskd,\n",
    ")\n",
    "from monai.handlers.utils import from_engine\n",
    "from monai.networks.nets import UNet\n",
    "from monai.networks.layers import Norm\n",
    "from monai.metrics import DiceMetric\n",
    "from monai.losses import DiceLoss\n",
    "from monai.inferers import sliding_window_inference\n",
    "from monai.data import CacheDataset, DataLoader, Dataset, decollate_batch\n",
    "from monai.apps import download_and_extract\n",
    "from monai.data import ITKReader\n",
    "import torch\n",
    "import matplotlib.pyplot as plt\n",
    "import tempfile\n",
    "import os\n",
    "import glob\n",
    "from torchvision.utils import save_image\n",
    "import numpy as np\n",
    "from datetime import datetime\n",
    "from skimage import io\n",
    "from PIL import Image, ImageSequence"
   ]
  },
  {
   "cell_type": "code",
   "execution_count": 2,
   "metadata": {},
   "outputs": [],
   "source": [
    "def get_data(root_dir, resource, name: str):\n",
    "\n",
    "    compressed_file = os.path.join(root_dir, name)\n",
    "    \n",
    "    if not os.path.exists(compressed_file):\n",
    "        download_and_extract(resource, compressed_file, root_dir)"
   ]
  },
  {
   "cell_type": "code",
   "execution_count": 20,
   "metadata": {},
   "outputs": [],
   "source": [
    "def breakdownstack(files, path):\n",
    "    for file in files:\n",
    "        filename_ext = os.path.basename(file)\n",
    "        filename = os.path.splitext(filename_ext)[0]\n",
    "        try:\n",
    "            im = Image.open(file)\n",
    "            for i, page in enumerate(ImageSequence.Iterator(im)):\n",
    "                if not os.path.isfile(f'{path}/{filename}_{i}.png'):\n",
    "                    try:\n",
    "                        page.save(f'{path}/{filename}_{i}.png')\n",
    "                    except:\n",
    "                        print(f\"error - {filename}_{i}.png\")\n",
    "        except:\n",
    "            print(f\"error - {filename}\")\n"
   ]
  },
  {
   "cell_type": "code",
   "execution_count": 21,
   "metadata": {},
   "outputs": [],
   "source": [
    "def check3d(path):\n",
    "    files = glob.glob(path + '/*.tif')\n",
    "\n",
    "    if len(files) > 1:\n",
    "        breakdownstack(files, path)\n",
    "    else:\n",
    "        print(\"No 3D data found\")"
   ]
  },
  {
   "cell_type": "code",
   "execution_count": 23,
   "metadata": {},
   "outputs": [],
   "source": [
    "directory = os.environ.get('MONAI_DATA_DIRECTORY', \"MONAI_DATA_DIRECTORY\")\n",
    "root_dir = tempfile.mkdtemp() if directory is None else directory\n",
    "data_dir = os.path.join(root_dir, \"data\")\n",
    "\n",
    "#get_data(root_dir, \"https://documents.epfl.ch/groups/c/cv/cvlab-unit/www/data/%20ElectronMicroscopy_Hippocampus/volumedata.tif\", \"lucchi.zip\")"
   ]
  },
  {
   "cell_type": "code",
   "execution_count": 22,
   "metadata": {},
   "outputs": [
    {
     "name": "stdout",
     "output_type": "stream",
     "text": [
      "MONAI_DATA_DIRECTORY/lucchi\n"
     ]
    }
   ],
   "source": [
    "for f in os.scandir(data_dir):\n",
    "    if f.path != 'MONAI_DATA_DIRECTORY/.DS_Store':\n",
    "        check3d(f.path)"
   ]
  }
 ],
 "metadata": {
  "kernelspec": {
   "display_name": "mitomonai",
   "language": "python",
   "name": "python3"
  },
  "language_info": {
   "codemirror_mode": {
    "name": "ipython",
    "version": 3
   },
   "file_extension": ".py",
   "mimetype": "text/x-python",
   "name": "python",
   "nbconvert_exporter": "python",
   "pygments_lexer": "ipython3",
   "version": "3.11.9"
  }
 },
 "nbformat": 4,
 "nbformat_minor": 2
}
