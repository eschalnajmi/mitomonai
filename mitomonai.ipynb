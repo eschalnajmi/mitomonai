{
 "cells": [
  {
   "cell_type": "code",
   "execution_count": 1,
   "id": "da13f713-b396-438f-b358-74ffcdaef4f6",
   "metadata": {},
   "outputs": [],
   "source": [
    "from monai.utils import first, set_determinism\n",
    "from monai.transforms import (\n",
    "    AsDiscrete,\n",
    "    AsDiscreted,\n",
    "    EnsureChannelFirstd,\n",
    "    Compose,\n",
    "    CropForegroundd,\n",
    "    LoadImaged,\n",
    "    Orientationd,\n",
    "    RandCropByPosNegLabeld,\n",
    "    SaveImaged,\n",
    "    ScaleIntensityRanged,\n",
    "    Spacingd,\n",
    "    Invertd,\n",
    "    LabelToMaskd,\n",
    ")\n",
    "from monai.handlers.utils import from_engine\n",
    "from monai.networks.nets import UNet\n",
    "from monai.networks.layers import Norm, Reshape\n",
    "from monai.metrics import DiceMetric\n",
    "from monai.losses import DiceLoss\n",
    "from monai.inferers import sliding_window_inference\n",
    "from monai.data import CacheDataset, DataLoader, Dataset, decollate_batch\n",
    "from monai.config import print_config\n",
    "from monai.apps import download_and_extract\n",
    "import torch\n",
    "import matplotlib.pyplot as plt\n",
    "import tempfile\n",
    "import shutil\n",
    "import os\n",
    "import glob\n",
    "from torchvision.utils import save_image\n",
    "import numpy as np"
   ]
  },
  {
   "cell_type": "code",
   "execution_count": 2,
   "id": "659a2ccd-ef5f-40ce-b328-03458c279d4d",
   "metadata": {},
   "outputs": [],
   "source": [
    " def get_data(root_dir, resource, name: str):\n",
    "\n",
    "    compressed_file = os.path.join(root_dir, name)\n",
    "    \n",
    "    if not os.path.exists(compressed_file):\n",
    "        download_and_extract(resource, compressed_file, root_dir)"
   ]
  },
  {
   "cell_type": "code",
   "execution_count": 3,
   "id": "49e7928c-68d7-4fa1-8369-e9b0d9546df9",
   "metadata": {},
   "outputs": [],
   "source": [
    "directory = os.environ.get('MONAI_DATA_DIRECTORY', \"MONAI_DATA_DIRECTORY\")\n",
    "root_dir = tempfile.mkdtemp() if directory is None else directory\n",
    "data_dir = os.path.join(root_dir, \"data\")\n",
    "\n",
    "get_data(root_dir, \"https://huggingface.co/datasets/pytc/EM30/resolve/main/EM30-R-im.zip\", \"EM30-R-im.zip\")\n",
    "\n",
    "get_data(root_dir, \"https://huggingface.co/datasets/pytc/MitoEM/resolve/main/EM30-R-mito-train-val-v2.zip?download=true\", \"EM30-R-mito-train-val-v2.zip\")\n"
   ]
  },
  {
   "cell_type": "code",
   "execution_count": 4,
   "id": "76eaad3a-509d-4796-9163-9e6704741c57",
   "metadata": {},
   "outputs": [],
   "source": [
    "images = sorted(glob.glob(os.path.join(root_dir, \"im\", \"im*.png\")))\n",
    "labels = sorted(glob.glob(os.path.join(root_dir, \"EM30-R-mito-train-val-v2/mito-train-v2\", \"seg*.tif\")))\n",
    "labels += sorted(glob.glob(os.path.join(root_dir, \"EM30-R-mito-train-val-v2/mito-val-v2\", \"seg*.tif\")))\n"
   ]
  },
  {
   "cell_type": "code",
   "execution_count": 5,
   "id": "ce6ed4db-ef02-426b-af0d-ca89bd66a6f2",
   "metadata": {},
   "outputs": [],
   "source": [
    "data_dicts = [\n",
    "    {\"image\": image_name, \"label\": label_name}\n",
    "    for image_name, label_name in zip(images, labels)\n",
    "]"
   ]
  },
  {
   "cell_type": "code",
   "execution_count": 6,
   "id": "0388e191-ad0b-45c6-92e9-2f768a3a5f50",
   "metadata": {},
   "outputs": [
    {
     "name": "stdout",
     "output_type": "stream",
     "text": [
      "398 100\n"
     ]
    }
   ],
   "source": [
    "train_files, val_files = data_dicts[:166] + data_dicts[168:400], data_dicts[400:500]\n",
    "\n",
    "\n",
    "print(len(train_files), len(val_files))"
   ]
  },
  {
   "cell_type": "code",
   "execution_count": 7,
   "id": "71793ebb-5b64-4bc8-aab3-a7bf3ae505e1",
   "metadata": {},
   "outputs": [],
   "source": [
    "set_determinism(seed=0)"
   ]
  },
  {
   "cell_type": "markdown",
   "id": "013af876-11da-44ac-a054-45f93004adca",
   "metadata": {},
   "source": [
    "train_transforms = Compose(\n",
    "    [LoadImaged(\n",
    "        keys=[\"image\", \"label\"]\n",
    "    ),\n",
    "    EnsureChannelFirstd(\n",
    "        keys=[\"image\", \"label\"]\n",
    "    ),\n",
    "    ScaleIntensityRanged(\n",
    "        keys=[\"image\"], a_min=-57, a_max=164, b_min=0.0, b_max=1.0, clip=True\n",
    "    ),\n",
    "    CropForegroundd(\n",
    "        keys=[\"image\", \"label\"], source_key=\"image\",allow_smaller=True\n",
    "    ),\n",
    "    Orientationd(\n",
    "        keys=[\"image\", \"label\"], axcodes=\"RAS\"\n",
    "    ),\n",
    "    Spacingd(\n",
    "        keys=[\"image\", \"label\"], pixdim=(1.5, 1.5, 2.0), mode=(\"bilinear\", \"nearest\")\n",
    "    ),\n",
    "    RandCropByPosNegLabeld(\n",
    "        keys=[\"image\", \"label\"], label_key=\"label\", spatial_size=(80, 80, 80), pos=1, neg=1, num_samples=4, image_key=\"image\", image_threshold=0\n",
    "    ),\n",
    "    LabelToMaskd(keys=[\"label\"], select_labels=[0, 1])  # Ensure labels are within the expected range\n",
    "    ]   \n",
    ")\n",
    "\n",
    "\n",
    "val_transforms = Compose(\n",
    "    [LoadImaged(\n",
    "        keys=[\"image\", \"label\"]\n",
    "    ),\n",
    "    EnsureChannelFirstd(\n",
    "        keys=[\"image\", \"label\"]\n",
    "    ),\n",
    "    ScaleIntensityRanged(\n",
    "        keys=[\"image\"], a_min=-57, a_max=164, b_min=0.0, b_max=1.0, clip=True\n",
    "    ),\n",
    "    CropForegroundd(\n",
    "        keys=[\"image\", \"label\"], source_key=\"image\", allow_smaller=True\n",
    "    ),\n",
    "    Orientationd(\n",
    "        keys=[\"image\", \"label\"], axcodes=\"RAS\"\n",
    "    ),\n",
    "    Spacingd(\n",
    "        keys=[\"image\", \"label\"], pixdim=(1.5, 1.5, 2.0), mode=(\"bilinear\", \"nearest\")\n",
    "    ),\n",
    "    LabelToMaskd(keys=[\"label\"], select_labels=[0, 1])  # Ensure labels are within the expected range\n",
    "    ]\n",
    ")\n"
   ]
  },
  {
   "cell_type": "code",
   "execution_count": 8,
   "id": "337e921e-6491-4ae6-8828-b73dd27239aa",
   "metadata": {},
   "outputs": [
    {
     "name": "stderr",
     "output_type": "stream",
     "text": [
      "monai.transforms.croppad.dictionary CropForegroundd.__init__:allow_smaller: Current default value of argument `allow_smaller=True` has been deprecated since version 1.2. It will be changed to `allow_smaller=False` in version 1.5.\n"
     ]
    }
   ],
   "source": [
    "train_transforms = Compose(\n",
    "    [\n",
    "        LoadImaged(keys=[\"image\", \"label\"]),\n",
    "        EnsureChannelFirstd(keys=[\"image\", \"label\"]),\n",
    "        ScaleIntensityRanged(\n",
    "            keys=[\"image\"],\n",
    "            a_min=-57,\n",
    "            a_max=164,\n",
    "            b_min=0.0,\n",
    "            b_max=1.0,\n",
    "            clip=True,\n",
    "        ),\n",
    "        CropForegroundd(keys=[\"image\", \"label\"], source_key=\"image\"),\n",
    "        #Orientationd(keys=[\"image\", \"label\"], axcodes=\"RAS\"),\n",
    "        Spacingd(keys=[\"image\", \"label\"], pixdim=(1.5, 1.5, 2.0), mode=(\"bilinear\", \"nearest\")),\n",
    "        RandCropByPosNegLabeld(\n",
    "            keys=[\"image\", \"label\"],\n",
    "            label_key=\"label\",\n",
    "            spatial_size=(80, 80),\n",
    "            pos=1,\n",
    "            neg=1,\n",
    "            num_samples=4,\n",
    "            image_key=\"image\",\n",
    "            image_threshold=0,\n",
    "        ),\n",
    "        LabelToMaskd(keys=[\"label\"], select_labels=[0, 1]),  # Ensure labels are within the expected range\n",
    "\n",
    "    ]\n",
    ")\n",
    "val_transforms = Compose(\n",
    "    [\n",
    "        LoadImaged(keys=[\"image\", \"label\"]),\n",
    "        EnsureChannelFirstd(keys=[\"image\", \"label\"]),\n",
    "        ScaleIntensityRanged(\n",
    "            keys=[\"image\"],\n",
    "            a_min=-57,\n",
    "            a_max=164,\n",
    "            b_min=0.0,\n",
    "            b_max=1.0,\n",
    "            clip=True,\n",
    "        ),\n",
    "        CropForegroundd(keys=[\"image\", \"label\"], source_key=\"image\"),\n",
    "        #Orientationd(keys=[\"image\", \"label\"], axcodes=\"RAS\"),\n",
    "        Spacingd(keys=[\"image\", \"label\"], pixdim=(1.5, 1.5, 2.0), mode=(\"bilinear\", \"nearest\")),\n",
    "        LabelToMaskd(keys=[\"label\"], select_labels=[0, 1]),  # Ensure labels are within the expected range\n",
    "    ]\n",
    ")"
   ]
  },
  {
   "cell_type": "markdown",
   "id": "fb2a2bd2-ed52-44ff-87a4-7b70cde9f220",
   "metadata": {},
   "source": [
    "check_ds = Dataset(data=val_files, transform=val_transforms)\n",
    "check_loader = DataLoader(check_ds, batch_size=1)\n",
    "check_data = first(check_loader)\n",
    "image, label = (check_data[\"image\"][0][0], check_data[\"label\"][0][0])\n",
    "\n",
    "\n",
    "print(f\"image shape: {image.shape}, label shape: {label.shape}\")\n",
    "\n",
    "save_image(image, \"check/image1.png\")\n",
    "save_image(label, \"check/label1.tif\")\n",
    "\n",
    "image = image.unsqueeze(-1).numpy()\n",
    "label = label.unsqueeze(-1).numpy()\n",
    "print(f\"image shape after reshape: {image.shape}, label shape: {label.shape}\")\n",
    "\n",
    "\n",
    "# plot the slice [:, :, 80]\n",
    "plt.figure(\"check\", (12, 6))\n",
    "plt.subplot(1, 2, 1)\n",
    "plt.title(\"image\")\n",
    "plt.imshow(image[:,:,0], cmap=\"gray\")\n",
    "plt.subplot(1, 2, 2)\n",
    "plt.title(\"label\")\n",
    "plt.imshow(label[:, :,0])\n",
    "plt.show()"
   ]
  },
  {
   "cell_type": "code",
   "execution_count": 9,
   "id": "ebf15deb-895c-420f-9b4a-3f4eacd5fa80",
   "metadata": {},
   "outputs": [
    {
     "name": "stderr",
     "output_type": "stream",
     "text": [
      "Loading dataset: 100%|██████████| 398/398 [07:02<00:00,  1.06s/it]\n",
      "Loading dataset: 100%|██████████| 100/100 [01:48<00:00,  1.08s/it]\n"
     ]
    }
   ],
   "source": [
    "train_ds = CacheDataset(data=train_files, transform=train_transforms, cache_rate=1.0, num_workers=2)\n",
    "train_loader = DataLoader(train_ds, batch_size=2, shuffle=True, num_workers=2)\n",
    "\n",
    "val_ds = CacheDataset(data=val_files, transform=val_transforms, cache_rate=1.0, num_workers=2)\n",
    "val_loader = DataLoader(val_ds, batch_size=1, num_workers=2)"
   ]
  },
  {
   "cell_type": "code",
   "execution_count": 10,
   "id": "6640d503-bdf4-4285-9840-4189f2c01e97",
   "metadata": {},
   "outputs": [],
   "source": [
    "device = torch.device(\"cuda\" if torch.cuda.is_available() else \"cpu\")\n",
    "model = UNet(\n",
    "    spatial_dims=2,\n",
    "    in_channels=1,\n",
    "    out_channels=2,\n",
    "    channels=(16, 32, 64, 128, 256),\n",
    "    strides=(2, 2, 2, 2),\n",
    "    num_res_units=2,\n",
    "    norm=Norm.BATCH,\n",
    ").to(device)\n",
    "loss_function = DiceLoss(sigmoid=True, to_onehot_y=True)\n",
    "optimizer = torch.optim.Adam(model.parameters(), 1e-4)\n",
    "dice_metric = DiceMetric(include_background=False, reduction=\"mean\")"
   ]
  },
  {
   "cell_type": "code",
   "execution_count": 11,
   "id": "0ab0e9a1-09b4-49fd-8f9e-0e727a2e42e0",
   "metadata": {},
   "outputs": [],
   "source": [
    "from datetime import datetime\n",
    "\n",
    "timestamp = datetime.now().strftime(\"%d%m%Y-%H%M%S\")\n",
    "save_dir = 'best_models'\n",
    "os.makedirs(save_dir, exist_ok=True)\n",
    "save_path = os.path.join(save_dir, f\"best_model_{timestamp}.pth\")"
   ]
  },
  {
   "cell_type": "code",
   "execution_count": null,
   "id": "11bbb528-06ef-4f23-9c9f-ccdccb3e198c",
   "metadata": {},
   "outputs": [
    {
     "name": "stdout",
     "output_type": "stream",
     "text": [
      "----------\n",
      "epoch 1/600\n",
      "----------\n",
      "epoch 2/600\n",
      "saved new best metric model\n",
      "\n",
      "best mean dice: 0.8973 at epoch: 2\n",
      "----------\n",
      "epoch 3/600\n",
      "----------\n",
      "epoch 4/600\n",
      "saved new best metric model\n",
      "\n",
      "best mean dice: 0.8996 at epoch: 4\n",
      "----------\n",
      "epoch 5/600\n",
      "----------\n",
      "epoch 6/600\n",
      "saved new best metric model\n",
      "\n",
      "best mean dice: 0.9640 at epoch: 6\n",
      "----------\n",
      "epoch 7/600\n",
      "----------\n",
      "epoch 8/600\n"
     ]
    }
   ],
   "source": [
    "max_epochs = 600\n",
    "val_interval = 2\n",
    "best_metric = -1\n",
    "best_metric_epoch = -1\n",
    "epoch_loss_values = []\n",
    "metric_values = []\n",
    "post_pred = Compose(AsDiscrete(argmax=True, to_onehot=2))\n",
    "post_label = Compose(AsDiscrete(to_onehot=2))\n",
    "\n",
    "for epoch in range(max_epochs):\n",
    "    print(\"-\" * 10)\n",
    "    print(f\"epoch {epoch + 1}/{max_epochs}\")\n",
    "    model.train()\n",
    "    epoch_loss = 0\n",
    "    step = 0\n",
    "    for batch_data in train_loader:\n",
    "        step += 1\n",
    "        inputs, labels = batch_data[\"image\"].to(device), batch_data[\"label\"].to(device)\n",
    "        optimizer.zero_grad()\n",
    "        outputs = model(inputs)\n",
    "        loss = loss_function(outputs, labels)\n",
    "        loss.backward()\n",
    "        optimizer.step()\n",
    "        epoch_loss += loss.item()\n",
    "        #print(f\"{step}/{len(train_ds) // train_loader.batch_size}, train_loss: {loss.item():.4f}\")\n",
    "    epoch_loss /= step\n",
    "    epoch_loss_values.append(epoch_loss)\n",
    "    #print(f\"epoch {epoch + 1} average loss: {epoch_loss:.4f}\")\n",
    "\n",
    "    if (epoch + 1) % val_interval == 0:\n",
    "        model.eval()\n",
    "        with torch.no_grad():\n",
    "            for val_data in val_loader:\n",
    "                val_inputs, val_labels = val_data[\"image\"].to(device), val_data[\"label\"].to(device)\n",
    "                roi_size = (160, 160)\n",
    "                sw_batch_size = 4\n",
    "                val_outputs = sliding_window_inference(val_inputs, roi_size, sw_batch_size, model)\n",
    "                val_outputs = [post_pred(i) for i in decollate_batch(val_outputs)]\n",
    "                val_labels = [post_label(i) for i in decollate_batch(val_labels)]\n",
    "                dice_metric(y_pred=val_outputs, y=val_labels)\n",
    "            metric = dice_metric.aggregate().item()\n",
    "            dice_metric.reset()\n",
    "\n",
    "            metric_values.append(metric)\n",
    "            if metric > best_metric:\n",
    "                best_metric = metric\n",
    "                best_metric_epoch = epoch + 1\n",
    "                torch.save(model.state_dict(), os.path.join(save_dir, f\"best_model_{timestamp}.pth\"))\n",
    "                torch.save(val_data[\"image\"], os.path.join(\"best_val_outputs\", f\"best_val_data_{timestamp}.pth\"))\n",
    "                print(\"saved new best metric model\")\n",
    "                print(\n",
    "                    f\"\\nbest mean dice: {best_metric:.4f} at epoch: {best_metric_epoch}\"\n",
    "                )\n",
    "            #print(\n",
    "             #   f\"current epoch: {epoch + 1} current mean dice: {metric:.4f}\"\n",
    "              #  f\"\\nbest mean dice: {best_metric:.4f} at epoch: {best_metric_epoch}\"\n",
    "            #)\n"
   ]
  },
  {
   "cell_type": "code",
   "execution_count": null,
   "id": "2d9143b3-a6fe-4d83-9c51-be21e8f6bc07",
   "metadata": {},
   "outputs": [],
   "source": [
    "print(\"end\")"
   ]
  }
 ],
 "metadata": {
  "kernelspec": {
   "display_name": "mitomonai",
   "language": "python",
   "name": "mitomonai"
  },
  "language_info": {
   "codemirror_mode": {
    "name": "ipython",
    "version": 3
   },
   "file_extension": ".py",
   "mimetype": "text/x-python",
   "name": "python",
   "nbconvert_exporter": "python",
   "pygments_lexer": "ipython3",
   "version": "3.11.9"
  }
 },
 "nbformat": 4,
 "nbformat_minor": 5
}
